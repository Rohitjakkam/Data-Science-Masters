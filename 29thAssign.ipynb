{
 "cells": [
  {
   "cell_type": "markdown",
   "id": "55a8d5d0-c30e-4eb3-a60a-6c6e0069bf9b",
   "metadata": {},
   "source": [
    "# 1.) Who Developed Python Programming Language?\n"
   ]
  },
  {
   "cell_type": "markdown",
   "id": "7128ce36-c706-4750-b997-cd5767acdbf4",
   "metadata": {},
   "source": [
    "##  Guido van Rossum"
   ]
  },
  {
   "cell_type": "markdown",
   "id": "39ae1bbf-b5bd-4b74-9ed6-d4723dcffd0c",
   "metadata": {},
   "source": [
    "# 2.) Which type of programming does python support?"
   ]
  },
  {
   "cell_type": "markdown",
   "id": "addb634e-5723-44bb-97f6-1a2af6412a64",
   "metadata": {
    "tags": []
   },
   "source": [
    "## Object-oriented programming and structured programming"
   ]
  },
  {
   "cell_type": "markdown",
   "id": "4e188de2-695c-4e27-8555-5cb89ed60faf",
   "metadata": {},
   "source": [
    "# 3.) Is python case sensitive when deals with identifiers? "
   ]
  },
  {
   "cell_type": "markdown",
   "id": "469f2170-6a4a-4a7e-941b-b2a2be5dbc6f",
   "metadata": {},
   "source": [
    "## Python is case sensitive when deals withs identifiers"
   ]
  },
  {
   "cell_type": "markdown",
   "id": "8ae92d0a-ce56-4ade-a9e9-a944cad7d50f",
   "metadata": {},
   "source": [
    "# 4.) What is the correct extensions of the Python files"
   ]
  },
  {
   "cell_type": "markdown",
   "id": "244ac37a-35fb-4c36-8cbb-02b8dbfd6de6",
   "metadata": {},
   "source": [
    "## .py"
   ]
  },
  {
   "cell_type": "markdown",
   "id": "457da25a-bf62-4d61-b2a6-625345dd8c61",
   "metadata": {},
   "source": [
    "# 5.) Is Python code compiled or interpreted?"
   ]
  },
  {
   "cell_type": "markdown",
   "id": "763cf319-3808-426e-982e-f160700576be",
   "metadata": {},
   "source": [
    "## python program is first compiled and then interpreted"
   ]
  },
  {
   "cell_type": "markdown",
   "id": "f51fc200-e421-4936-b1b3-d8ea6582d386",
   "metadata": {},
   "source": [
    "#  6.) Name a few blocks of code used to define in Python Language?"
   ]
  },
  {
   "cell_type": "markdown",
   "id": "4c38abd2-0292-4c62-beab-9fc937c70a62",
   "metadata": {},
   "source": [
    "##  if statement block\n",
    "## for loop block\n",
    "## while loop block\n",
    "##  def function block\n",
    "## class block"
   ]
  },
  {
   "cell_type": "markdown",
   "id": "a4b878d0-b331-4870-9375-8f161b3e91cb",
   "metadata": {},
   "source": [
    "# 7.) State a character used to give single-line  commment  in python?"
   ]
  },
  {
   "cell_type": "markdown",
   "id": "2634d4b9-c5e2-40dd-a0c1-63e95f7740e2",
   "metadata": {},
   "source": [
    "## Start from #."
   ]
  },
  {
   "cell_type": "markdown",
   "id": "60bec7b7-2423-4380-80c4-957b9834d9dc",
   "metadata": {},
   "source": [
    "# 8.) Mentions functions which  can help us to find the version of python that we are currently working on?"
   ]
  },
  {
   "cell_type": "markdown",
   "id": "494df607-0637-43fe-9dd2-f52d479dfeb5",
   "metadata": {},
   "source": [
    "## sys.version \n",
    "## sys.version_info \n",
    "## platform.python_version() \n",
    "## platform.python_version_tuple() \n",
    "## os.system('python --version')"
   ]
  },
  {
   "cell_type": "markdown",
   "id": "031cf25f-71d0-421e-ab41-e6e0d0ad522f",
   "metadata": {},
   "source": [
    "# 9.) Python supports the creations of anonymous functions at runtime, using a construct called "
   ]
  },
  {
   "cell_type": "markdown",
   "id": "2aaaca78-3a57-475e-a725-6daec6bec531",
   "metadata": {},
   "source": [
    "## Lambda Functions"
   ]
  },
  {
   "cell_type": "markdown",
   "id": "f7cd10c8-acb3-43d8-9d07-b4609e9c2b20",
   "metadata": {},
   "source": [
    "# 10.) What does pip stand for python?"
   ]
  },
  {
   "cell_type": "markdown",
   "id": "3ede5806-d7b4-4d69-886c-171749544ef5",
   "metadata": {},
   "source": [
    "## PIP stands for \"Pip Installs Packages\". It is the package installer for Python and is used to install and manage additional libraries and dependencies for Python packages."
   ]
  },
  {
   "cell_type": "markdown",
   "id": "d315ef87-0c7c-4349-ae74-a643d128ec3c",
   "metadata": {},
   "source": [
    "# 11.) Mention a few built-in functions in python?"
   ]
  },
  {
   "cell_type": "markdown",
   "id": "efb1a868-ffe1-40d3-b221-a91740daee79",
   "metadata": {},
   "source": [
    "## print()\n",
    "## len()\n",
    "## type()\n",
    "## range()\n",
    "## input()\n",
    "## list()"
   ]
  },
  {
   "cell_type": "markdown",
   "id": "5e180306-8cd3-43bb-946d-d96b88ab66b7",
   "metadata": {},
   "source": [
    "# 12.)What is the maximum possible length of an identifier in python?"
   ]
  },
  {
   "cell_type": "markdown",
   "id": "1aeeeabe-efce-428f-86c6-4995b8483dd3",
   "metadata": {},
   "source": [
    "## the maximum length of an identifier is not explicitly defined"
   ]
  },
  {
   "cell_type": "markdown",
   "id": "1e4c4c24-8df7-47ee-8749-fc5a7da1df3f",
   "metadata": {},
   "source": [
    "# 13.) What are the benefits of using Python?"
   ]
  },
  {
   "cell_type": "markdown",
   "id": "1bc2d599-3638-4520-9d6e-073294dfaced",
   "metadata": {},
   "source": [
    "## Ease of use\n",
    "## Large standard library\n",
    "## cross-platform compatibillity\n",
    "## Wide range of application\n",
    "## open-source Community\n",
    "## High Productivity\n",
    "## Integration with other Languages"
   ]
  },
  {
   "cell_type": "markdown",
   "id": "4ccf08dc-e06a-4374-96d5-802409c1760e",
   "metadata": {},
   "source": [
    "# 14.) How is memory managed in python?"
   ]
  },
  {
   "cell_type": "markdown",
   "id": "267daecd-fefa-4318-8752-3c6c64578dab",
   "metadata": {},
   "source": [
    "## In Python, memory is managed automatically through a technique called \"garbage collection\". "
   ]
  },
  {
   "cell_type": "markdown",
   "id": "6def9a96-c819-42a7-80a4-988dbcaa598b",
   "metadata": {},
   "source": [
    "# 15.) How to install Python on Windows and set path variables?"
   ]
  },
  {
   "cell_type": "code",
   "execution_count": null,
   "id": "5873a2ab-d1a5-40ac-be56-5c6b60a2abd0",
   "metadata": {},
   "outputs": [],
   "source": []
  },
  {
   "cell_type": "markdown",
   "id": "49f4aeec-d706-41b8-a9f6-5f8fb81afd70",
   "metadata": {},
   "source": [
    "# 16.) Is indentations required in python?"
   ]
  },
  {
   "cell_type": "code",
   "execution_count": null,
   "id": "aab51cd2-f275-4dea-89a8-f70b69c90ac9",
   "metadata": {},
   "outputs": [],
   "source": []
  }
 ],
 "metadata": {
  "kernelspec": {
   "display_name": "Python 3 (ipykernel)",
   "language": "python",
   "name": "python3"
  },
  "language_info": {
   "codemirror_mode": {
    "name": "ipython",
    "version": 3
   },
   "file_extension": ".py",
   "mimetype": "text/x-python",
   "name": "python",
   "nbconvert_exporter": "python",
   "pygments_lexer": "ipython3",
   "version": "3.10.8"
  }
 },
 "nbformat": 4,
 "nbformat_minor": 5
}
