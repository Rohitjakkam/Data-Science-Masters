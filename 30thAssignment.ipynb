{
 "cells": [
  {
   "cell_type": "markdown",
   "id": "a781c5b8-871d-4a21-9c96-ee4fd78ce7ac",
   "metadata": {},
   "source": [
    "# P.1"
   ]
  },
  {
   "cell_type": "code",
   "execution_count": 1,
   "id": "d617ac7a-87ea-426c-963e-e9e5cf30e3c7",
   "metadata": {},
   "outputs": [
    {
     "name": "stdin",
     "output_type": "stream",
     "text": [
      "Enter your Percentage 76\n"
     ]
    },
    {
     "name": "stdout",
     "output_type": "stream",
     "text": [
      "Grade C\n"
     ]
    }
   ],
   "source": [
    "num=float(input('Enter your Percentage'))\n",
    "if num>90:\n",
    "    print(\"Gaade A\")\n",
    "elif num>80 and num<=90:\n",
    "    print(\"Grade B\")\n",
    "elif num>60 and num<=80:\n",
    "    print(\"Grade C\")\n",
    "elif num<60:\n",
    "     print(\"Grade D\")       \n",
    "        \n",
    "    \n"
   ]
  },
  {
   "cell_type": "markdown",
   "id": "7f826c6a-65af-412e-b1f0-54dae66ad56d",
   "metadata": {},
   "source": [
    "# P.2"
   ]
  },
  {
   "cell_type": "code",
   "execution_count": 3,
   "id": "2c628768-28c8-4afb-b1d7-04bbdf569663",
   "metadata": {},
   "outputs": [
    {
     "name": "stdin",
     "output_type": "stream",
     "text": [
      "Enter your bike cost:  150000\n"
     ]
    },
    {
     "name": "stdout",
     "output_type": "stream",
     "text": [
      "You have to pay 15% road tax. \n"
     ]
    }
   ],
   "source": [
    "\n",
    "cost_of_bike=int(input(\"Enter your bike cost: \"))\n",
    "if cost_of_bike>100000:\n",
    "    print(\"You have to pay 15% road tax. \")\n",
    "elif cost_of_bike>50000 and cost_of_bike<=100000:\n",
    "    print(\"You have to pay 10% road tax. \")\n",
    "elif cost_of_bike<=50000:\n",
    "     print(\"You have to pay 5% road tax. \")       \n",
    "        \n"
   ]
  },
  {
   "cell_type": "markdown",
   "id": "51f55ea0-6912-45bc-8705-d9cdd8206e0b",
   "metadata": {},
   "source": [
    "# P.3"
   ]
  },
  {
   "cell_type": "code",
   "execution_count": 1,
   "id": "8059f53d-b5d5-412f-b216-27951d418c29",
   "metadata": {},
   "outputs": [
    {
     "name": "stdin",
     "output_type": "stream",
     "text": [
      "Enter the city name agra\n"
     ]
    },
    {
     "name": "stdout",
     "output_type": "stream",
     "text": [
      "Taj Mahal\n"
     ]
    }
   ],
   "source": [
    "city = input('Enter the city name')\n",
    "if city == 'Agra' or city =='agra':\n",
    "    print(\"Taj Mahal\")\n",
    "elif city == 'Delhi'or city =='delhi':\n",
    "    print(\"Red Fort\")\n",
    "elif city == 'Jaipur' or city == 'jaipur':\n",
    "    print('Jai Mahal')\n",
    "else:\n",
    "    print(\"City not found\")"
   ]
  },
  {
   "cell_type": "markdown",
   "id": "cc2e63cd-cb34-4a00-a5d0-3d37dedc3f9b",
   "metadata": {},
   "source": [
    "# P.4"
   ]
  },
  {
   "cell_type": "code",
   "execution_count": 4,
   "id": "88b51ed3-93c5-46be-b2ec-0b8b75e9ac79",
   "metadata": {},
   "outputs": [
    {
     "name": "stdin",
     "output_type": "stream",
     "text": [
      "Enter a number:  999\n"
     ]
    },
    {
     "name": "stdout",
     "output_type": "stream",
     "text": [
      "999 is exactly 3 times divisible by 3 before it is less than 10. \n"
     ]
    }
   ],
   "source": [
    "number = int(input('Enter a number: '))\n",
    "number1= number\n",
    "count = 0\n",
    "while(number1>10):\n",
    "    if number1 %3 != 0:\n",
    "        break;\n",
    "    elif number1 %3 ==0:\n",
    "        count+= 1\n",
    "    number1 = number1/3\n",
    "print(f'{number} is exactly {count} times divisible by 3 before it is less than 10. ')"
   ]
  },
  {
   "cell_type": "markdown",
   "id": "e70b60fd-c322-4ada-9a13-1eff592d1dd6",
   "metadata": {},
   "source": [
    "# P.5"
   ]
  },
  {
   "cell_type": "markdown",
   "id": "7c3c7774-cd40-4593-91b6-d34d9b7d79ae",
   "metadata": {},
   "source": [
    "###  While loop is used to iterate over the list of elements. This is useful for excecution of repeatitive code which is \n",
    "irritating for an user. \n",
    "Suppose we have print the nos from 1 to 1000 , so basically for an user this is very time consuming task before loops so with the help of while loop we can do this in seconds.\n",
    "eg;\n",
    "i = 1\n",
    "while i <= 1000:\n",
    "    print(i) "
   ]
  },
  {
   "cell_type": "markdown",
   "id": "e784da21-60fb-4047-9535-ceb7330b875c",
   "metadata": {},
   "source": [
    "# P.6"
   ]
  },
  {
   "cell_type": "code",
   "execution_count": 7,
   "id": "e4d3b29a-7a79-4c1e-b0ca-28038a6ad8a2",
   "metadata": {},
   "outputs": [
    {
     "name": "stdout",
     "output_type": "stream",
     "text": [
      "* \n",
      "* * \n",
      "* * * \n",
      "* * * * \n",
      "* * * * * \n",
      "* * * * * * \n",
      "* * * * * * * \n"
     ]
    }
   ],
   "source": [
    "# Pattern 1\n",
    "n=7\n",
    "i=1\n",
    "while i<=n:\n",
    "    j=1\n",
    "    while j<=n:\n",
    "        if j<=i:\n",
    "            print('*',end=\" \")\n",
    "        j+=1\n",
    "    print()\n",
    "    i+=1"
   ]
  },
  {
   "cell_type": "code",
   "execution_count": 8,
   "id": "6e92dba1-e0bd-4a75-acc9-b77daee9c3d0",
   "metadata": {},
   "outputs": [
    {
     "name": "stdout",
     "output_type": "stream",
     "text": [
      "* * * * * \n",
      "* * * * \n",
      "* * * \n",
      "* * \n",
      "* \n"
     ]
    }
   ],
   "source": [
    "# Pattern 2\n",
    "n = 5\n",
    "i = 1\n",
    "while i <= n:\n",
    "    j = 1\n",
    "    while j<=n:\n",
    "        if j <= 6-i:\n",
    "            print(\"*\", end=\" \")\n",
    "        j += 1\n",
    "    print()\n",
    "    i += 1"
   ]
  },
  {
   "cell_type": "code",
   "execution_count": 14,
   "id": "621d3922-e20e-40a8-9597-2284fe84d94a",
   "metadata": {},
   "outputs": [
    {
     "name": "stdout",
     "output_type": "stream",
     "text": [
      "        * \n",
      "      * * \n",
      "    * * * \n",
      "  * * * * \n",
      "* * * * * \n"
     ]
    }
   ],
   "source": [
    "# Pattern 3\n",
    "n = 5\n",
    "i = 1\n",
    "while i <= n:\n",
    "    j = 1 \n",
    "    while j <=n :\n",
    "        if j <= n-i:\n",
    "            print('',end=' ')        \n",
    "        else:\n",
    "           print('*',end=' ')   \n",
    "        j=j+1\n",
    "    print()\n",
    "    i=i+1\n"
   ]
  },
  {
   "cell_type": "code",
   "execution_count": null,
   "id": "259c3990-9017-4876-b431-eaa551634d07",
   "metadata": {},
   "outputs": [],
   "source": []
  }
 ],
 "metadata": {
  "kernelspec": {
   "display_name": "Python 3 (ipykernel)",
   "language": "python",
   "name": "python3"
  },
  "language_info": {
   "codemirror_mode": {
    "name": "ipython",
    "version": 3
   },
   "file_extension": ".py",
   "mimetype": "text/x-python",
   "name": "python",
   "nbconvert_exporter": "python",
   "pygments_lexer": "ipython3",
   "version": "3.10.8"
  }
 },
 "nbformat": 4,
 "nbformat_minor": 5
}
