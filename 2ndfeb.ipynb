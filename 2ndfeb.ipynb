{
 "cells": [
  {
   "cell_type": "markdown",
   "id": "30231b07-c0c1-49d1-8fac-31403fe94284",
   "metadata": {},
   "source": [
    "# 1\n",
    " Following are the tupele characteristics:\n",
    "\n",
    " A.Tuple items are ordered, unchangeable, and allow duplicate values.\n",
    " \n",
    " B.Tuple items are indexed, indexing starts from 0.\n",
    "\n",
    " Yes, tupeles are immutable means we can't change change exxisting tuple."
   ]
  },
  {
   "cell_type": "markdown",
   "id": "77d1d3ab-26cf-4a15-9de1-039f497f2b56",
   "metadata": {},
   "source": [
    "# 2.\n",
    "\n",
    "There are only two built-in methods in tuples:\n",
    "\n",
    "These are count() & index().\n",
    "\n",
    "The main reason for tuple has only two methods as compared to list is that\n",
    "\n",
    "tuple is immutable means we can't delete, insert, update new values in tuple so there is no need of more methods.\n",
    "\n",
    "Example of this two built-in methods are"
   ]
  },
  {
   "cell_type": "code",
   "execution_count": 12,
   "id": "80a3df9d-e1c4-4578-9655-66a8fa27e880",
   "metadata": {},
   "outputs": [],
   "source": [
    "tup1 = (1,2,3,1,4,5,3,1,3,1,2,1,4,5)"
   ]
  },
  {
   "cell_type": "code",
   "execution_count": 13,
   "id": "0a9f7f91-fe9b-401c-832a-fd92ff38c9dd",
   "metadata": {},
   "outputs": [
    {
     "data": {
      "text/plain": [
       "5"
      ]
     },
     "execution_count": 13,
     "metadata": {},
     "output_type": "execute_result"
    }
   ],
   "source": [
    "tup1.count(1)"
   ]
  },
  {
   "cell_type": "code",
   "execution_count": 14,
   "id": "9b8a04c6-81c0-49cf-81c9-d5406fbabce7",
   "metadata": {},
   "outputs": [
    {
     "data": {
      "text/plain": [
       "2"
      ]
     },
     "execution_count": 14,
     "metadata": {},
     "output_type": "execute_result"
    }
   ],
   "source": [
    "tup1.index(3)"
   ]
  },
  {
   "cell_type": "code",
   "execution_count": 15,
   "id": "aa369c5f-8461-4cd9-96d8-0ff21ac5cd88",
   "metadata": {},
   "outputs": [
    {
     "data": {
      "text/plain": [
       "10"
      ]
     },
     "execution_count": 15,
     "metadata": {},
     "output_type": "execute_result"
    }
   ],
   "source": [
    "tup1.index(2,3)"
   ]
  },
  {
   "cell_type": "markdown",
   "id": "c89c03c7-729c-46b6-b7b8-75565236cd35",
   "metadata": {},
   "source": [
    "# 3.\n",
    " In Python, 'set' datatype do not allow duplicates."
   ]
  },
  {
   "cell_type": "code",
   "execution_count": 16,
   "id": "1ea5240b-377b-4648-b052-a789cea236b6",
   "metadata": {},
   "outputs": [
    {
     "name": "stdout",
     "output_type": "stream",
     "text": [
      "{1, 2, 3, 4}\n"
     ]
    }
   ],
   "source": [
    "List = [1, 1, 1, 2, 1, 3, 1, 4, 2, 1, 2, 2, 2, 3, 2, 4, 3, 1, 3, 2, 3, 3, 3, 4, 4, 1, 4, 2, 4, 3, 4, 4]\n",
    "\n",
    "Set = set(List)\n",
    "print(Set)"
   ]
  },
  {
   "cell_type": "markdown",
   "id": "91cbbe14-78b4-472b-87e7-3415741ca0cf",
   "metadata": {},
   "source": [
    "# 4.\n",
    "\n",
    "union() method is used to combine two sets completely no duplicates allowed \n",
    "\n",
    "But More important is that it creates a new set."
   ]
  },
  {
   "cell_type": "code",
   "execution_count": 17,
   "id": "e23fb4f8-53e2-43dc-bede-773969de3c84",
   "metadata": {},
   "outputs": [
    {
     "name": "stdout",
     "output_type": "stream",
     "text": [
      "{1, 2, 3, 4, 5, 6}\n"
     ]
    }
   ],
   "source": [
    "set1 = {1,2,3,4}\n",
    "set2 = {4,5,6}\n",
    "union_set = set2.union(set1)\n",
    "print(union_set)"
   ]
  },
  {
   "cell_type": "markdown",
   "id": "faaf3cf8-b6d7-42a3-a94c-6f8dd786cf8d",
   "metadata": {},
   "source": [
    "On the other hand, update() method is used to add non existing elements in one set from other set,\n",
    "\n",
    "And, important thing is that like union() method it doesn't creates a new set but updates in existing set."
   ]
  },
  {
   "cell_type": "code",
   "execution_count": 18,
   "id": "49412a04-67f1-4a7b-b02e-47a91957eb95",
   "metadata": {},
   "outputs": [
    {
     "name": "stdout",
     "output_type": "stream",
     "text": [
      "{1, 2, 3}\n"
     ]
    }
   ],
   "source": [
    "set3 = {1,2,3}\n",
    "set4 = {3,4,5}\n",
    "set3.union(set4)\n",
    "print(set3)"
   ]
  },
  {
   "cell_type": "markdown",
   "id": "f0615ebd-5899-4661-b4a6-7127834a06c4",
   "metadata": {},
   "source": [
    "# 5.\n",
    "\n",
    "Dictionary is a data structure in python which includes keys and values pairs, In python dictionary is unordered structure."
   ]
  },
  {
   "cell_type": "code",
   "execution_count": 19,
   "id": "9c3c3ddc-e857-4cf5-bf17-2a9ab5eb3fcf",
   "metadata": {},
   "outputs": [
    {
     "name": "stdout",
     "output_type": "stream",
     "text": [
      "{1: 'Python', 2: 'Java', 3: 'Perl'}\n"
     ]
    }
   ],
   "source": [
    "course_dic = {1:'Python',2:'Java',3:'Perl'}\n",
    "print(course_dic)"
   ]
  },
  {
   "cell_type": "markdown",
   "id": "84f07043-de53-4a16-9b40-25f61b8c1790",
   "metadata": {},
   "source": [
    "In this example;\n",
    "\n",
    "1,2,3 are known as \"keys\" & 'Python','Java','Perl' are known as \"values\"."
   ]
  },
  {
   "cell_type": "markdown",
   "id": "fd617235-e53a-499c-8c08-09b623c2af12",
   "metadata": {},
   "source": [
    "# 6.\n",
    "\n",
    "Yes, We can create a nested dictionary in python. Below is an example of a nested dictionary;"
   ]
  },
  {
   "cell_type": "code",
   "execution_count": 21,
   "id": "ce89b42d-cd26-4789-b035-4132882dca83",
   "metadata": {},
   "outputs": [
    {
     "data": {
      "text/plain": [
       "'while loops'"
      ]
     },
     "execution_count": 21,
     "metadata": {},
     "output_type": "execute_result"
    }
   ],
   "source": [
    "nested_dic = {1:'Python',2:'Java',3:{'A':'for loops','B':'while loops','C':'if-else','D':'break-condition'}}\n",
    "\n",
    "nested_dic[3]['B']"
   ]
  },
  {
   "cell_type": "markdown",
   "id": "bd48dd52-b1e2-40d3-a998-e499172c8af4",
   "metadata": {},
   "source": [
    "In above example a nested dictionary created at key 3 with their keys-values pairs.\n",
    "\n",
    "We can access them using multiple keys pairs."
   ]
  },
  {
   "cell_type": "markdown",
   "id": "6e1fcd4c-9057-4615-9cd4-e39b00c592ff",
   "metadata": {},
   "source": [
    "# 7.\n",
    "\n",
    "Using setdefault() method we cnn add default value for a key if it doesn't exist"
   ]
  },
  {
   "cell_type": "code",
   "execution_count": 22,
   "id": "d558433e-ba33-4574-8dc4-050fb9c3b9f2",
   "metadata": {},
   "outputs": [
    {
     "name": "stdout",
     "output_type": "stream",
     "text": [
      "{'language': 'Python', 'course': 'Data Science Masters', 'topics': ['Python', 'Machine Learning', 'Deep Learning']}\n"
     ]
    }
   ],
   "source": [
    "dict1 = {'language' : 'Python', 'course': 'Data Science Masters'}\n",
    "\n",
    "new_dic1 = dict1.setdefault('topics',['Python','Machine Learning','Deep Learning'])\n",
    "\n",
    "print(dict1)"
   ]
  },
  {
   "cell_type": "markdown",
   "id": "85ed807d-5c4d-41fb-9272-241d0fc641db",
   "metadata": {},
   "source": [
    "# 8.\n",
    "\n",
    "The three view objects in python are \"key_view\",\"value_view\" and \"item_view\"."
   ]
  },
  {
   "cell_type": "code",
   "execution_count": 24,
   "id": "b30487a5-90bc-44ec-8702-1d011f270015",
   "metadata": {},
   "outputs": [],
   "source": [
    "dict1 = {'Sport': 'Cricket' , 'Teams': ['India', 'Australia', 'England', 'South Africa', 'Sri Lanka', 'New  Zealand']}"
   ]
  },
  {
   "cell_type": "markdown",
   "id": "545333aa-f3e7-424c-8e3a-513ea24b82f4",
   "metadata": {},
   "source": [
    "The three built-in mehtods in python to show these three view object are \n",
    "dic_name.keys()  ,  dic_name.values()  &  dic_name.items()"
   ]
  },
  {
   "cell_type": "code",
   "execution_count": 25,
   "id": "d7acd30e-4f91-45ce-854f-28e6486d1271",
   "metadata": {},
   "outputs": [
    {
     "name": "stdout",
     "output_type": "stream",
     "text": [
      "dict_keys(['Sport', 'Teams'])\n"
     ]
    }
   ],
   "source": [
    "print(dict1.keys())"
   ]
  },
  {
   "cell_type": "code",
   "execution_count": 26,
   "id": "b79fe01a-309c-4edb-8fab-30634b529c1d",
   "metadata": {},
   "outputs": [
    {
     "name": "stdout",
     "output_type": "stream",
     "text": [
      "dict_values(['Cricket', ['India', 'Australia', 'England', 'South Africa', 'Sri Lanka', 'New  Zealand']])\n"
     ]
    }
   ],
   "source": [
    "print(dict1.values())"
   ]
  },
  {
   "cell_type": "code",
   "execution_count": 27,
   "id": "a2865af4-3224-4519-872e-29a62dcb1485",
   "metadata": {},
   "outputs": [
    {
     "name": "stdout",
     "output_type": "stream",
     "text": [
      "dict_items([('Sport', 'Cricket'), ('Teams', ['India', 'Australia', 'England', 'South Africa', 'Sri Lanka', 'New  Zealand'])])\n"
     ]
    }
   ],
   "source": [
    "print(dict1.items())"
   ]
  },
  {
   "cell_type": "code",
   "execution_count": null,
   "id": "0bf2df12-0e97-4b77-a72c-8a2112b0bf29",
   "metadata": {},
   "outputs": [],
   "source": []
  }
 ],
 "metadata": {
  "kernelspec": {
   "display_name": "Python 3 (ipykernel)",
   "language": "python",
   "name": "python3"
  },
  "language_info": {
   "codemirror_mode": {
    "name": "ipython",
    "version": 3
   },
   "file_extension": ".py",
   "mimetype": "text/x-python",
   "name": "python",
   "nbconvert_exporter": "python",
   "pygments_lexer": "ipython3",
   "version": "3.10.8"
  }
 },
 "nbformat": 4,
 "nbformat_minor": 5
}
